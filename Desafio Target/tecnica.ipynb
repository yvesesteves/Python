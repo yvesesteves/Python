{
 "cells": [
  {
   "cell_type": "code",
   "execution_count": 4,
   "metadata": {},
   "outputs": [
    {
     "name": "stdout",
     "output_type": "stream",
     "text": [
      "O número 21 pertence à sequência de Fibonacci.\n",
      "O número 17 não pertence à sequência de Fibonacci.\n"
     ]
    }
   ],
   "source": [
    "#Yves Yan Esteves Pereira - Desafio Target (Todos os programas feitos em Python)\n",
    "# Exercicio 1 - Fibbonacci:\n",
    "def fibonacci(n):\n",
    "    a, b = 0, 1\n",
    "    while b <= n:\n",
    "        if b == n:\n",
    "            return f\"O número {n} pertence à sequência de Fibonacci.\"\n",
    "        a, b = b, a + b\n",
    "    return f\"O número {n} não pertence à sequência de Fibonacci.\"\n",
    "\n",
    "numero_1 = 21\n",
    "print(fibonacci(numero_1))\n",
    "numero_2 = 17\n",
    "print(fibonacci(numero_2))\n"
   ]
  },
  {
   "cell_type": "code",
   "execution_count": 5,
   "metadata": {},
   "outputs": [
    {
     "name": "stdout",
     "output_type": "stream",
     "text": [
      "A letra 'a' aparece 1 vezes na string.\n",
      "A letra 'a' aparece 2 vezes na string.\n"
     ]
    }
   ],
   "source": [
    "# Exercicio 2 - Programa para verificar a existência e quantidade da letra ‘a’ em uma string\n",
    "def contar_a(s):\n",
    "    contador = s.lower().count('a')\n",
    "    return f\"A letra 'a' aparece {contador} vezes na string.\"\n",
    "\n",
    "# String informada\n",
    "string_1 = \"Vasco\"\n",
    "print(contar_a(string_1))\n",
    "string_2 = \"Palmeiras\"\n",
    "print(contar_a(string_2))"
   ]
  },
  {
   "cell_type": "code",
   "execution_count": 7,
   "metadata": {},
   "outputs": [
    {
     "name": "stdout",
     "output_type": "stream",
     "text": [
      "77\n"
     ]
    }
   ],
   "source": [
    "# Exercicio 3) - Valor final da variavel SOMA\n",
    "INDICE = 12\n",
    "SOMA = 0\n",
    "K = 1\n",
    "\n",
    "while K < INDICE:\n",
    "    K = K + 1\n",
    "    SOMA = SOMA + K\n",
    "\n",
    "print(SOMA)\n",
    " "
   ]
  },
  {
   "cell_type": "markdown",
   "metadata": {},
   "source": [
    "### Exercicio 4 - Lógica e próximo elemento das sequências:\n",
    "a) 1, 3, 5, 7, 9 (Sequência de números ímpares)\n",
    "\n",
    "b) 2, 4, 8, 16, 32, 64, 128 (Sequência de potências de 2)\n",
    "\n",
    "c) 0, 1, 4, 9, 16, 25, 36, 49 (Sequência dos quadrados perfeitos)\n",
    "\n",
    "d) 4, 16, 36, 64, 100 (Sequência dos quadrados dos números pares: 2², 4², 6², 8², 10²)\n",
    "\n",
    "e) 1, 1, 2, 3, 5, 8, 13 (Sequência de Fibonacci)\n",
    "\n",
    "f) 2, 10, 12, 16, 17, 18, 19, 20 (Sequência numérica com incremento alternado de 8, 2, 4, 1, 1, 1)"
   ]
  },
  {
   "cell_type": "markdown",
   "metadata": {},
   "source": [
    "### Exercicio 5 - Solução do problema dos interruptores e lâmpadas:\n",
    "\n",
    "Ligue o primeiro interruptor e deixe-o ligado por alguns minutos.\n",
    "Após alguns minutos, desligue o primeiro interruptor e ligue o segundo.\n",
    "Vá para a sala das lâmpadas.\n",
    "A lâmpada que estiver acesa pertence ao segundo interruptor.\n",
    "A lâmpada que estiver apagada mas quente pertence ao primeiro interruptor (que foi ligado e depois desligado).\n",
    "A lâmpada que estiver apagada e fria pertence ao terceiro interruptor (que não foi ligado).\n",
    "\n",
    "Assim, usando o tempo que a lâmpada demora para esfriar, é possível determinar qual interruptor controla qual lâmpada, mesmo com apenas duas idas à sala das lâmpadas."
   ]
  }
 ],
 "metadata": {
  "kernelspec": {
   "display_name": "Python 3",
   "language": "python",
   "name": "python3"
  },
  "language_info": {
   "codemirror_mode": {
    "name": "ipython",
    "version": 3
   },
   "file_extension": ".py",
   "mimetype": "text/x-python",
   "name": "python",
   "nbconvert_exporter": "python",
   "pygments_lexer": "ipython3",
   "version": "3.12.1"
  }
 },
 "nbformat": 4,
 "nbformat_minor": 2
}
