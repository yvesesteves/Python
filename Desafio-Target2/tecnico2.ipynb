{
 "cells": [
  {
   "cell_type": "code",
   "execution_count": 1,
   "metadata": {},
   "outputs": [
    {
     "name": "stdout",
     "output_type": "stream",
     "text": [
      "91\n"
     ]
    }
   ],
   "source": [
    "# Yves Yan Esteves Pereira - Exercicios feitos em Python\n",
    "# 1) Valor final da variável SOMA:\n",
    "INDICE = 13\n",
    "SOMA = 0\n",
    "K = 0\n",
    "\n",
    "while K < INDICE:\n",
    "    K = K + 1\n",
    "    SOMA = SOMA + K\n",
    "\n",
    "print(SOMA)\n"
   ]
  },
  {
   "cell_type": "code",
   "execution_count": 8,
   "metadata": {},
   "outputs": [
    {
     "name": "stdout",
     "output_type": "stream",
     "text": [
      "O número 13 pertence à sequência de Fibonacci.\n"
     ]
    }
   ],
   "source": [
    "# 2) Fibonacci\n",
    "def fibonacci(n):\n",
    "    a, b = 0, 1\n",
    "    while b <= n:\n",
    "        if b == n:\n",
    "            return f\"O número {n} pertence à sequência de Fibonacci.\"\n",
    "        a, b = b, a + b\n",
    "    return f\"O número {n} não pertence à sequência de Fibonacci.\"\n",
    "\n",
    "# Número informado\n",
    "numero = 13\n",
    "print(fibonacci(numero))\n"
   ]
  },
  {
   "cell_type": "code",
   "execution_count": null,
   "metadata": {},
   "outputs": [],
   "source": [
    "# 3) Calcula faturamento\n",
    "import json\n",
    "\n",
    "# Supondo que o JSON de faturamento diário seja assim:\n",
    "faturamento_diario = '''\n",
    "{\n",
    "    \"faturamento\": [0, 22174.1664, 24537.6698, 26139.6134, 0, 0, 26742.6612, 0, 42889.2258, 0, 46251.174, 11191.4722, 0, 0, 0, 3847.4823, 373.7838, 0, 42675.806, 0, 0, 0, 0, 48801.4554, 0, 0, 0, 1401.7024, 0, 0]\n",
    "}\n",
    "'''\n",
    "\n",
    "# Convertendo o JSON para um dicionário Python\n",
    "dados = json.loads(faturamento_diario)\n",
    "faturamento = dados['faturamento']\n",
    "\n",
    "# Filtrando os dias com faturamento maior que zero\n",
    "faturamento_filtrado = [x for x in faturamento if x > 0]\n",
    "\n",
    "# Calculando o menor e o maior faturamento\n",
    "menor_faturamento = min(faturamento_filtrado)\n",
    "maior_faturamento = max(faturamento_filtrado)\n",
    "\n",
    "# Calculando a média\n",
    "media_mensal = sum(faturamento_filtrado) / len(faturamento_filtrado)\n",
    "\n",
    "# Contando os dias com faturamento acima da média\n",
    "dias_acima_da_media = sum(1 for x in faturamento_filtrado if x > media_mensal)\n",
    "\n",
    "print(f\"Menor faturamento: R${menor_faturamento:.2f}\")\n",
    "print(f\"Maior faturamento: R${maior_faturamento:.2f}\")\n",
    "print(f\"Dias acima da média: {dias_acima_da_media}\")\n"
   ]
  },
  {
   "cell_type": "code",
   "execution_count": 9,
   "metadata": {},
   "outputs": [
    {
     "name": "stdout",
     "output_type": "stream",
     "text": [
      "SP representa 37.53% do faturamento total.\n",
      "RJ representa 20.29% do faturamento total.\n",
      "MG representa 16.17% do faturamento total.\n",
      "ES representa 15.03% do faturamento total.\n",
      "Outros representa 10.98% do faturamento total.\n"
     ]
    }
   ],
   "source": [
    "# 4) Calcula percentual\n",
    "faturamento_por_estado = {\n",
    "    \"SP\": 67836.43,\n",
    "    \"RJ\": 36678.66,\n",
    "    \"MG\": 29229.88,\n",
    "    \"ES\": 27165.48,\n",
    "    \"Outros\": 19849.53\n",
    "}\n",
    "\n",
    "total = sum(faturamento_por_estado.values())\n",
    "\n",
    "for estado, valor in faturamento_por_estado.items():\n",
    "    percentual = (valor / total) * 100\n",
    "    print(f\"{estado} representa {percentual:.2f}% do faturamento total.\")\n"
   ]
  },
  {
   "cell_type": "code",
   "execution_count": 11,
   "metadata": {},
   "outputs": [
    {
     "name": "stdout",
     "output_type": "stream",
     "text": [
      "String invertida: etset\n"
     ]
    }
   ],
   "source": [
    "# 5) Inverte caracteres\n",
    "def inverter_string(s):\n",
    "    string_invertida = ''\n",
    "    for i in range(len(s) - 1, -1, -1):\n",
    "        string_invertida += s[i]\n",
    "    return string_invertida\n",
    "\n",
    "# String informada\n",
    "string = \"teste\"\n",
    "print(f\"String invertida: {inverter_string(string)}\")\n"
   ]
  }
 ],
 "metadata": {
  "kernelspec": {
   "display_name": "Python 3",
   "language": "python",
   "name": "python3"
  },
  "language_info": {
   "codemirror_mode": {
    "name": "ipython",
    "version": 3
   },
   "file_extension": ".py",
   "mimetype": "text/x-python",
   "name": "python",
   "nbconvert_exporter": "python",
   "pygments_lexer": "ipython3",
   "version": "3.12.1"
  }
 },
 "nbformat": 4,
 "nbformat_minor": 2
}
